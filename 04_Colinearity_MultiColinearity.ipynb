{
 "cells": [
  {
   "cell_type": "markdown",
   "id": "093c8af2-240f-4193-9125-2bd7f69b3a92",
   "metadata": {},
   "source": [
    "# Importing Important Libraries"
   ]
  },
  {
   "cell_type": "code",
   "execution_count": 2,
   "id": "a626e695-f4d5-4b9c-979e-8b3465f9d038",
   "metadata": {},
   "outputs": [],
   "source": [
    "import numpy as np  # For numerical operations\n",
    "import pandas as pd  # For data manipulation and analysis\n",
    "import seaborn as sns  # For statistical data visualization\n",
    "import matplotlib.pyplot as plt  # For plotting graphs\n"
   ]
  },
  {
   "cell_type": "markdown",
   "id": "f8eea564-ce65-4ac3-add1-421ccee6ddb1",
   "metadata": {},
   "source": [
    "# Importiing Caliform=nia dataset"
   ]
  },
  {
   "cell_type": "code",
   "execution_count": 4,
   "id": "10d9e8c4-3879-45cc-a209-21ac2ea8fe73",
   "metadata": {},
   "outputs": [],
   "source": [
    "from sklearn.datasets import fetch_california_housing"
   ]
  },
  {
   "cell_type": "code",
   "execution_count": 5,
   "id": "8eef3363-1700-4df6-bab5-13864c174a7d",
   "metadata": {},
   "outputs": [],
   "source": [
    "data = fetch_california_housing()"
   ]
  },
  {
   "cell_type": "code",
   "execution_count": 6,
   "id": "74fcc85c-4e0f-4047-8c9e-f3d21a7e7958",
   "metadata": {},
   "outputs": [],
   "source": [
    "# Convert the dataset into a Pandas DataFrame\n",
    "df = pd.DataFrame(data.data, columns=data.feature_names)"
   ]
  },
  {
   "cell_type": "code",
   "execution_count": 7,
   "id": "2e344a91-4521-4c88-b010-805a34563dab",
   "metadata": {},
   "outputs": [],
   "source": [
    "# Rename 'MedHouseValue' column to 'Price' as the target variable\n",
    "df['Price'] = data.target"
   ]
  },
  {
   "cell_type": "code",
   "execution_count": 8,
   "id": "8b691089-91e3-4261-aad4-dcdc63bcca92",
   "metadata": {},
   "outputs": [
    {
     "data": {
      "text/html": [
       "<div>\n",
       "<style scoped>\n",
       "    .dataframe tbody tr th:only-of-type {\n",
       "        vertical-align: middle;\n",
       "    }\n",
       "\n",
       "    .dataframe tbody tr th {\n",
       "        vertical-align: top;\n",
       "    }\n",
       "\n",
       "    .dataframe thead th {\n",
       "        text-align: right;\n",
       "    }\n",
       "</style>\n",
       "<table border=\"1\" class=\"dataframe\">\n",
       "  <thead>\n",
       "    <tr style=\"text-align: right;\">\n",
       "      <th></th>\n",
       "      <th>MedInc</th>\n",
       "      <th>HouseAge</th>\n",
       "      <th>AveRooms</th>\n",
       "      <th>AveBedrms</th>\n",
       "      <th>Population</th>\n",
       "      <th>AveOccup</th>\n",
       "      <th>Latitude</th>\n",
       "      <th>Longitude</th>\n",
       "      <th>Price</th>\n",
       "    </tr>\n",
       "  </thead>\n",
       "  <tbody>\n",
       "    <tr>\n",
       "      <th>0</th>\n",
       "      <td>8.3252</td>\n",
       "      <td>41.0</td>\n",
       "      <td>6.984127</td>\n",
       "      <td>1.023810</td>\n",
       "      <td>322.0</td>\n",
       "      <td>2.555556</td>\n",
       "      <td>37.88</td>\n",
       "      <td>-122.23</td>\n",
       "      <td>4.526</td>\n",
       "    </tr>\n",
       "    <tr>\n",
       "      <th>1</th>\n",
       "      <td>8.3014</td>\n",
       "      <td>21.0</td>\n",
       "      <td>6.238137</td>\n",
       "      <td>0.971880</td>\n",
       "      <td>2401.0</td>\n",
       "      <td>2.109842</td>\n",
       "      <td>37.86</td>\n",
       "      <td>-122.22</td>\n",
       "      <td>3.585</td>\n",
       "    </tr>\n",
       "    <tr>\n",
       "      <th>2</th>\n",
       "      <td>7.2574</td>\n",
       "      <td>52.0</td>\n",
       "      <td>8.288136</td>\n",
       "      <td>1.073446</td>\n",
       "      <td>496.0</td>\n",
       "      <td>2.802260</td>\n",
       "      <td>37.85</td>\n",
       "      <td>-122.24</td>\n",
       "      <td>3.521</td>\n",
       "    </tr>\n",
       "    <tr>\n",
       "      <th>3</th>\n",
       "      <td>5.6431</td>\n",
       "      <td>52.0</td>\n",
       "      <td>5.817352</td>\n",
       "      <td>1.073059</td>\n",
       "      <td>558.0</td>\n",
       "      <td>2.547945</td>\n",
       "      <td>37.85</td>\n",
       "      <td>-122.25</td>\n",
       "      <td>3.413</td>\n",
       "    </tr>\n",
       "    <tr>\n",
       "      <th>4</th>\n",
       "      <td>3.8462</td>\n",
       "      <td>52.0</td>\n",
       "      <td>6.281853</td>\n",
       "      <td>1.081081</td>\n",
       "      <td>565.0</td>\n",
       "      <td>2.181467</td>\n",
       "      <td>37.85</td>\n",
       "      <td>-122.25</td>\n",
       "      <td>3.422</td>\n",
       "    </tr>\n",
       "    <tr>\n",
       "      <th>...</th>\n",
       "      <td>...</td>\n",
       "      <td>...</td>\n",
       "      <td>...</td>\n",
       "      <td>...</td>\n",
       "      <td>...</td>\n",
       "      <td>...</td>\n",
       "      <td>...</td>\n",
       "      <td>...</td>\n",
       "      <td>...</td>\n",
       "    </tr>\n",
       "    <tr>\n",
       "      <th>20635</th>\n",
       "      <td>1.5603</td>\n",
       "      <td>25.0</td>\n",
       "      <td>5.045455</td>\n",
       "      <td>1.133333</td>\n",
       "      <td>845.0</td>\n",
       "      <td>2.560606</td>\n",
       "      <td>39.48</td>\n",
       "      <td>-121.09</td>\n",
       "      <td>0.781</td>\n",
       "    </tr>\n",
       "    <tr>\n",
       "      <th>20636</th>\n",
       "      <td>2.5568</td>\n",
       "      <td>18.0</td>\n",
       "      <td>6.114035</td>\n",
       "      <td>1.315789</td>\n",
       "      <td>356.0</td>\n",
       "      <td>3.122807</td>\n",
       "      <td>39.49</td>\n",
       "      <td>-121.21</td>\n",
       "      <td>0.771</td>\n",
       "    </tr>\n",
       "    <tr>\n",
       "      <th>20637</th>\n",
       "      <td>1.7000</td>\n",
       "      <td>17.0</td>\n",
       "      <td>5.205543</td>\n",
       "      <td>1.120092</td>\n",
       "      <td>1007.0</td>\n",
       "      <td>2.325635</td>\n",
       "      <td>39.43</td>\n",
       "      <td>-121.22</td>\n",
       "      <td>0.923</td>\n",
       "    </tr>\n",
       "    <tr>\n",
       "      <th>20638</th>\n",
       "      <td>1.8672</td>\n",
       "      <td>18.0</td>\n",
       "      <td>5.329513</td>\n",
       "      <td>1.171920</td>\n",
       "      <td>741.0</td>\n",
       "      <td>2.123209</td>\n",
       "      <td>39.43</td>\n",
       "      <td>-121.32</td>\n",
       "      <td>0.847</td>\n",
       "    </tr>\n",
       "    <tr>\n",
       "      <th>20639</th>\n",
       "      <td>2.3886</td>\n",
       "      <td>16.0</td>\n",
       "      <td>5.254717</td>\n",
       "      <td>1.162264</td>\n",
       "      <td>1387.0</td>\n",
       "      <td>2.616981</td>\n",
       "      <td>39.37</td>\n",
       "      <td>-121.24</td>\n",
       "      <td>0.894</td>\n",
       "    </tr>\n",
       "  </tbody>\n",
       "</table>\n",
       "<p>20640 rows × 9 columns</p>\n",
       "</div>"
      ],
      "text/plain": [
       "       MedInc  HouseAge  AveRooms  AveBedrms  Population  AveOccup  Latitude  \\\n",
       "0      8.3252      41.0  6.984127   1.023810       322.0  2.555556     37.88   \n",
       "1      8.3014      21.0  6.238137   0.971880      2401.0  2.109842     37.86   \n",
       "2      7.2574      52.0  8.288136   1.073446       496.0  2.802260     37.85   \n",
       "3      5.6431      52.0  5.817352   1.073059       558.0  2.547945     37.85   \n",
       "4      3.8462      52.0  6.281853   1.081081       565.0  2.181467     37.85   \n",
       "...       ...       ...       ...        ...         ...       ...       ...   \n",
       "20635  1.5603      25.0  5.045455   1.133333       845.0  2.560606     39.48   \n",
       "20636  2.5568      18.0  6.114035   1.315789       356.0  3.122807     39.49   \n",
       "20637  1.7000      17.0  5.205543   1.120092      1007.0  2.325635     39.43   \n",
       "20638  1.8672      18.0  5.329513   1.171920       741.0  2.123209     39.43   \n",
       "20639  2.3886      16.0  5.254717   1.162264      1387.0  2.616981     39.37   \n",
       "\n",
       "       Longitude  Price  \n",
       "0        -122.23  4.526  \n",
       "1        -122.22  3.585  \n",
       "2        -122.24  3.521  \n",
       "3        -122.25  3.413  \n",
       "4        -122.25  3.422  \n",
       "...          ...    ...  \n",
       "20635    -121.09  0.781  \n",
       "20636    -121.21  0.771  \n",
       "20637    -121.22  0.923  \n",
       "20638    -121.32  0.847  \n",
       "20639    -121.24  0.894  \n",
       "\n",
       "[20640 rows x 9 columns]"
      ]
     },
     "execution_count": 8,
     "metadata": {},
     "output_type": "execute_result"
    }
   ],
   "source": [
    "df"
   ]
  },
  {
   "cell_type": "markdown",
   "id": "631fe4f6-d854-4338-a40e-f8604a6850c6",
   "metadata": {},
   "source": [
    "# 1:32\n",
    "## Multicolinearity : \n",
    "- When one feature is explained by all other features(more than 2)\n",
    "- When there are only two features in the dataset we can determine the colinearity by correlation matrix , Heatmap\r",
    "- \n",
    "When there are more than two features in the dataset then we can determine the colinearity by Variance Inflation factor ( VIF , Cluster Map"
   ]
  },
  {
   "cell_type": "markdown",
   "id": "c9032b89-8574-47fb-9c93-db2265295edf",
   "metadata": {},
   "source": [
    "# 3:00\n",
    "### Correlation Matrix \n",
    "- Determining the Correation between the different features in the df\n",
    "- Creating corelation matric and then visuaizing it on a heat map for the better understanding "
   ]
  },
  {
   "cell_type": "code",
   "execution_count": 11,
   "id": "945291c2-6b38-4254-826f-4ed6d6696890",
   "metadata": {},
   "outputs": [
    {
     "name": "stdout",
     "output_type": "stream",
     "text": [
      "              MedInc  HouseAge  AveRooms  AveBedrms  Population  AveOccup  \\\n",
      "MedInc      1.000000 -0.119034  0.326895  -0.062040    0.004834  0.018766   \n",
      "HouseAge   -0.119034  1.000000 -0.153277  -0.077747   -0.296244  0.013191   \n",
      "AveRooms    0.326895 -0.153277  1.000000   0.847621   -0.072213 -0.004852   \n",
      "AveBedrms  -0.062040 -0.077747  0.847621   1.000000   -0.066197 -0.006181   \n",
      "Population  0.004834 -0.296244 -0.072213  -0.066197    1.000000  0.069863   \n",
      "AveOccup    0.018766  0.013191 -0.004852  -0.006181    0.069863  1.000000   \n",
      "Latitude   -0.079809  0.011173  0.106389   0.069721   -0.108785  0.002366   \n",
      "Longitude  -0.015176 -0.108197 -0.027540   0.013344    0.099773  0.002476   \n",
      "Price       0.688075  0.105623  0.151948  -0.046701   -0.024650 -0.023737   \n",
      "\n",
      "            Latitude  Longitude     Price  \n",
      "MedInc     -0.079809  -0.015176  0.688075  \n",
      "HouseAge    0.011173  -0.108197  0.105623  \n",
      "AveRooms    0.106389  -0.027540  0.151948  \n",
      "AveBedrms   0.069721   0.013344 -0.046701  \n",
      "Population -0.108785   0.099773 -0.024650  \n",
      "AveOccup    0.002366   0.002476 -0.023737  \n",
      "Latitude    1.000000  -0.924664 -0.144160  \n",
      "Longitude  -0.924664   1.000000 -0.045967  \n",
      "Price      -0.144160  -0.045967  1.000000  \n"
     ]
    }
   ],
   "source": [
    "# Calculate the correlation matrix\n",
    "correlation_matrix = df.corr()\n",
    "\n",
    "# Display the correlation matrix\n",
    "print(correlation_matrix)\n"
   ]
  },
  {
   "cell_type": "code",
   "execution_count": 12,
   "id": "a1e790a8-90fd-4c0b-b80b-7ccfbc6572fd",
   "metadata": {},
   "outputs": [
    {
     "data": {
      "image/png": "[encoded data removed]",
      "text/plain": [
       "<Figure size 800x600 with 2 Axes>"
      ]
     },
     "metadata": {},
     "output_type": "display_data"
    }
   ],
   "source": [
    "# Calculate the correlation matrix\n",
    "correlation_matrix = df.corr()\n",
    "\n",
    "# Plot the heatmap\n",
    "plt.figure(figsize=(8, 6))\n",
    "sns.heatmap(correlation_matrix, annot=True, cmap='coolwarm', fmt='.2f', cbar=True, square=True , vmax=1, vmin=-1)\n",
    "\n",
    "# Display the plot\n",
    "plt.show()"
   ]
  },
  {
   "cell_type": "markdown",
   "id": "2ec9d433-3381-41b0-9441-5d9b50f8f57d",
   "metadata": {},
   "source": [
    "### Interpretation :\n",
    "- We can confirm that MedInc has the strongest Positive corelation with the Price \n",
    "- Other than MedINC , HouseAge and AvgRooms have the moderate correlation with Price as compared to rest of the other Features"
   ]
  },
  {
   "cell_type": "markdown",
   "id": "27b7e29e-48f6-4671-9892-f6d59c1194ca",
   "metadata": {},
   "source": [
    "### Check for the Multicoliearity:\n",
    "- House Age has moderate negative correlation with Population\n",
    "- Avg Rooms has Strong postive crrealtion with AvgBedrooms\n",
    "- Latitude has Strong negative correaltion with Longitude\n",
    "    "
   ]
  },
  {
   "cell_type": "markdown",
   "id": "d1230ff3-d034-4b72-af27-d3f1d6255928",
   "metadata": {},
   "source": [
    "### So Yes Multicolinearity exists "
   ]
  },
  {
   "cell_type": "markdown",
   "id": "1cf6d5e5-c357-4bbf-8c67-af8f7651ae71",
   "metadata": {},
   "source": [
    "# 10:00 VIF for Multicolinearity\n",
    "-  As there are more than two features in the dataset we should use VIF score to determine the mulicolineatiy\n",
    "-  Features with VIF scores higher than 10 should e dropped one at a time and again determine the change in the VIF scores of all oter features\n",
    "  "
   ]
  },
  {
   "cell_type": "code",
   "execution_count": 17,
   "id": "9628d3d5-e2a2-4018-9c9a-879a2ac0d434",
   "metadata": {},
   "outputs": [
    {
     "name": "stdout",
     "output_type": "stream",
     "text": [
      "      Feature         VIF\n",
      "0      MedInc   11.511140\n",
      "1    HouseAge    7.195917\n",
      "2    AveRooms   45.993601\n",
      "3   AveBedrms   43.590314\n",
      "4  Population    2.935745\n",
      "5    AveOccup    1.095243\n",
      "6    Latitude  559.874071\n",
      "7   Longitude  633.711654\n"
     ]
    }
   ],
   "source": [
    "from statsmodels.stats.outliers_influence import variance_inflation_factor\n",
    "\n",
    "# Drop the target variable 'Price' for VIF calculation\n",
    "X = df.drop('Price', axis=1)\n",
    "\n",
    "# Calculate VIF for each feature\n",
    "vif_data = pd.DataFrame()\n",
    "vif_data[\"Feature\"] = X.columns\n",
    "vif_data[\"VIF\"] = [variance_inflation_factor(X.values, i) for i in range(X.shape[1])]\n",
    "\n",
    "# Display the VIF data\n",
    "print(vif_data)\n"
   ]
  },
  {
   "cell_type": "markdown",
   "id": "f6665bcd-5f2e-4931-b51f-434a730adcec",
   "metadata": {},
   "source": [
    "## Dropping Longitude column first"
   ]
  },
  {
   "cell_type": "code",
   "execution_count": 19,
   "id": "41dc3695-6030-43f7-b049-d5fe4b8b7e63",
   "metadata": {},
   "outputs": [],
   "source": [
    "# Drop 'Longitude' feature first\n",
    "df_dropped = df.drop('Longitude', axis=1)"
   ]
  },
  {
   "cell_type": "markdown",
   "id": "e5eea6f2-eff1-4727-89e7-b24921ef8703",
   "metadata": {},
   "source": [
    "# Re calculating the VIF Score"
   ]
  },
  {
   "cell_type": "code",
   "execution_count": 21,
   "id": "2615be30-79e4-49c0-8494-97aebabbcebd",
   "metadata": {},
   "outputs": [
    {
     "name": "stdout",
     "output_type": "stream",
     "text": [
      "      Feature        VIF\n",
      "0      MedInc   9.865861\n",
      "1    HouseAge   6.880512\n",
      "2    AveRooms  42.192223\n",
      "3   AveBedrms  39.768396\n",
      "4  Population   2.793169\n",
      "5    AveOccup   1.094908\n",
      "6    Latitude  22.498755\n"
     ]
    }
   ],
   "source": [
    "# Recalculate VIF for remaining features\n",
    "X_dropped = df_dropped.drop('Price', axis=1)\n",
    "\n",
    "# Calculate VIF for each feature\n",
    "vif_data_dropped = pd.DataFrame()\n",
    "vif_data_dropped[\"Feature\"] = X_dropped.columns\n",
    "vif_data_dropped[\"VIF\"] = [variance_inflation_factor(X_dropped.values, i) for i in range(X_dropped.shape[1])]\n",
    "\n",
    "# Display the new VIF data\n",
    "print(vif_data_dropped)"
   ]
  },
  {
   "cell_type": "markdown",
   "id": "b0733ad7-b3ef-4172-a8d3-5f13b54a399c",
   "metadata": {},
   "source": [
    "# Dropping the HauseAge Column "
   ]
  },
  {
   "cell_type": "code",
   "execution_count": 23,
   "id": "8ec795c7-c5dd-45d1-8c17-681089c93c4f",
   "metadata": {},
   "outputs": [
    {
     "name": "stdout",
     "output_type": "stream",
     "text": [
      "      Feature        VIF\n",
      "0      MedInc   9.828015\n",
      "1    AveRooms  40.844454\n",
      "2   AveBedrms  39.110576\n",
      "3  Population   2.563463\n",
      "4    AveOccup   1.093561\n",
      "5    Latitude  14.093180\n"
     ]
    }
   ],
   "source": [
    "# Drop 'HouseAge' feature from X_dropped\n",
    "X_dropped = X_dropped.drop('HouseAge', axis=1)\n",
    "\n",
    "# Recalculate VIF for the remaining features\n",
    "vif_data_dropped_houseage = pd.DataFrame()\n",
    "vif_data_dropped_houseage[\"Feature\"] = X_dropped.columns\n",
    "vif_data_dropped_houseage[\"VIF\"] = [variance_inflation_factor(X_dropped.values, i) for i in range(X_dropped.shape[1])]\n",
    "\n",
    "# Display the new VIF data\n",
    "print(vif_data_dropped_houseage)\n"
   ]
  },
  {
   "cell_type": "markdown",
   "id": "53256f37-1643-4c9d-92c8-a1e65364c873",
   "metadata": {},
   "source": [
    "### Business Decission :\n",
    "- Dropping of columns is the decision at business team \n",
    "- As Latitude and AvRooms showed strong correaltions with Price we cannot afford drop these two columns though their VIF scores are high "
   ]
  },
  {
   "cell_type": "markdown",
   "id": "06eb38ce-8bf7-421a-9557-2d99b4711c06",
   "metadata": {},
   "source": [
    "# Dropping AvgBedrooms and rcalculting th VIF scores"
   ]
  },
  {
   "cell_type": "code",
   "execution_count": 40,
   "id": "e83b0f57-7781-46d6-9dd5-28317977a604",
   "metadata": {},
   "outputs": [
    {
     "name": "stdout",
     "output_type": "stream",
     "text": [
      "      Feature       VIF\n",
      "0      MedInc  5.635801\n",
      "1    AveRooms  6.662494\n",
      "2  Population  2.557088\n",
      "3    AveOccup  1.093330\n",
      "4    Latitude  9.345745\n"
     ]
    }
   ],
   "source": [
    "# Drop 'AveBedrms' feature from X_dropped\n",
    "X_dropped = X_dropped.drop('AveBedrms', axis=1)\n",
    "\n",
    "# Recalculate VIF for the remaining features\n",
    "vif_data_dropped_avebedrms = pd.DataFrame()\n",
    "vif_data_dropped_avebedrms[\"Feature\"] = X_dropped.columns\n",
    "vif_data_dropped_avebedrms[\"VIF\"] = [variance_inflation_factor(X_dropped.values, i) for i in range(X_dropped.shape[1])]\n",
    "\n",
    "# Display the new VIF data\n",
    "print(vif_data_dropped_avebedrms)\n"
   ]
  },
  {
   "cell_type": "markdown",
   "id": "e56da045-d5ee-48d2-b70e-5ef949a261cd",
   "metadata": {},
   "source": [
    "# Now the dataset is t=rady to be trained and tested on any maachine learning model\n",
    "# Thnakoyu"
   ]
  },
  {
   "cell_type": "code",
   "execution_count": null,
   "id": "4ec8d6d5-6b84-4d14-a8f3-d78e38936fb0",
   "metadata": {},
   "outputs": [],
   "source": []
  }
 ],
 "metadata": {
  "kernelspec": {
   "display_name": "Python 3 (ipykernel)",
   "language": "python",
   "name": "python3"
  },
  "language_info": {
   "codemirror_mode": {
    "name": "ipython",
    "version": 3
   },
   "file_extension": ".py",
   "mimetype": "text/x-python",
   "name": "python",
   "nbconvert_exporter": "python",
   "pygments_lexer": "ipython3",
   "version": "3.12.4"
  }
 },
 "nbformat": 4,
 "nbformat_minor": 5
}
